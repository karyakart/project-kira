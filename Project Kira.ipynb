{
 "cells": [
  {
   "cell_type": "code",
   "execution_count": 1,
   "id": "5c526d30",
   "metadata": {},
   "outputs": [
    {
     "ename": "SyntaxError",
     "evalue": "'break' outside loop (Temp/ipykernel_13732/1506451895.py, line 69)",
     "output_type": "error",
     "traceback": [
      "\u001b[1;36m  File \u001b[1;32m\"C:\\Users\\PRATHM~1\\AppData\\Local\\Temp/ipykernel_13732/1506451895.py\"\u001b[1;36m, line \u001b[1;32m69\u001b[0m\n\u001b[1;33m    break\u001b[0m\n\u001b[1;37m    ^\u001b[0m\n\u001b[1;31mSyntaxError\u001b[0m\u001b[1;31m:\u001b[0m 'break' outside loop\n"
     ]
    }
   ],
   "source": [
    "import speech_recognition as sr\n",
    "import pyttsx3\n",
    "import pywhatkit\n",
    "import datetime\n",
    "import wikipedia\n",
    "import pyjokes\n",
    "\n",
    "listener = sr.Recognizer()\n",
    "engine = pyttsx3.init()\n",
    "voices = engine.getProperty('voices')\n",
    "engine.setProperty('voice', voices[1].id)\n",
    "\n",
    "\n",
    "def talk(text):\n",
    "    engine.say(text)\n",
    "    engine.runAndWait()\n",
    "\n",
    "\n",
    "def take_command():\n",
    "    try:\n",
    "        with sr.Microphone() as source:\n",
    "            print('listening...')\n",
    "            begine = pyttsx3.init()\n",
    "            begine.say('Hello! I am Kira, and I am listening!')\n",
    "            #begine.setProperty('rate',125)\n",
    "            #begine.setProperty('voice', voices[0].id)\n",
    "            begine.runAndWait()\n",
    "            voice = listener.listen(source)\n",
    "            command = listener.recognize_google(voice)\n",
    "            command = command.lower()\n",
    "            if 'Kira' in command:\n",
    "                command = command.replace('Kira', '')\n",
    "                print(command)\n",
    "            return command\n",
    "    except:\n",
    "        pass\n",
    "\n",
    "\n",
    "def run_Kira():\n",
    "    command = take_command()\n",
    "    print(command)\n",
    "    if command == None:\n",
    "        talk('you haven not said anything. if you want me to stop say exit after hearing a joke! here is a joke!')\n",
    "        talk(pyjokes.get_joke())\n",
    "    elif 'play' in command:\n",
    "        song = command.replace('play', '')\n",
    "        talk('playing ' + song)\n",
    "        pywhatkit.playonyt(song)\n",
    "    elif 'time' in command:\n",
    "        time = datetime.datetime.now().strftime('%I:%M %p')\n",
    "        talk('Current time is ' + time)\n",
    "    elif 'who is' in command:\n",
    "        person = command.replace('who is', '')\n",
    "        info = wikipedia.summary(person, 1)\n",
    "        print(info)\n",
    "        talk(info)\n",
    "    elif 'what is' in command:\n",
    "        person = command.replace('what is', '')\n",
    "        info = wikipedia.summary(person, 1)\n",
    "        print(info)\n",
    "        talk(info)\n",
    "    elif 'date' in command:\n",
    "        talk('sorry, I have a headache')\n",
    "    elif 'are you single' in command:\n",
    "        talk('I am in a relationship with wifi')\n",
    "    elif 'joke' in command:\n",
    "        talk(pyjokes.get_joke())\n",
    "    #elif 'exit' in command:\n",
    "    #    break\n",
    "\n",
    "    else:\n",
    "        talk('Please say the command again.')\n",
    "\n",
    "\n",
    "#while True:\n",
    "#   run_Kira()\n",
    "try:\n",
    "    while True:\n",
    "        run_Kira()\n",
    "except KeyboardInterrupt:\n",
    "        talk('Bye!!')\n",
    "        pass\n"
   ]
  },
  {
   "cell_type": "code",
   "execution_count": 19,
   "id": "67a04c43",
   "metadata": {},
   "outputs": [],
   "source": [
    "import pyttsx3\n",
    "friend = pyttsx3.init()\n",
    "friend.setProperty('rate',125)   # getting details of current speaking rate"
   ]
  },
  {
   "cell_type": "code",
   "execution_count": 20,
   "id": "40be4c79",
   "metadata": {},
   "outputs": [],
   "source": [
    "volume = friend.getProperty('volume')   #getting to know current volume level (min=0 and max=1)                          #printing current volume level\n",
    "friend.setProperty('volume',2.0)    "
   ]
  },
  {
   "cell_type": "code",
   "execution_count": 37,
   "id": "11a29c1b",
   "metadata": {},
   "outputs": [],
   "source": [
    "voices = friend.getProperty('voices')\n",
    "friend.setProperty('voice', voices[1].id)"
   ]
  },
  {
   "cell_type": "code",
   "execution_count": 38,
   "id": "e71bdade",
   "metadata": {},
   "outputs": [],
   "source": [
    "friend.say(\"Jyotiraditya, work hard!\")\n",
    "friend.runAndWait()"
   ]
  },
  {
   "cell_type": "code",
   "execution_count": 16,
   "id": "170775f0",
   "metadata": {},
   "outputs": [],
   "source": [
    "begine = pyttsx3.init()\n",
    "begine.say('Hello! I am Kira, and I am listening!')\n",
    "begine.setProperty('rate',125)\n",
    "begine.setProperty('voice', voices[-1].id)\n",
    "begine.runAndWait()"
   ]
  },
  {
   "cell_type": "code",
   "execution_count": null,
   "id": "c76667ed",
   "metadata": {},
   "outputs": [],
   "source": []
  }
 ],
 "metadata": {
  "interpreter": {
   "hash": "26ef45bd985423a7ed314e024aa8d3f116232ab4f15b598309c765c8699b3850"
  },
  "kernelspec": {
   "display_name": "Python 3.9.6 64-bit",
   "language": "python",
   "name": "python3"
  },
  "language_info": {
   "codemirror_mode": {
    "name": "ipython",
    "version": 3
   },
   "file_extension": ".py",
   "mimetype": "text/x-python",
   "name": "python",
   "nbconvert_exporter": "python",
   "pygments_lexer": "ipython3",
   "version": "3.9.6"
  }
 },
 "nbformat": 4,
 "nbformat_minor": 5
}
